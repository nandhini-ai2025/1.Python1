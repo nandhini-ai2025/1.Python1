{
 "cells": [
  {
   "cell_type": "code",
   "execution_count": 12,
   "id": "2c42e732-da15-445e-be48-8c5504e01268",
   "metadata": {},
   "outputs": [],
   "source": [
    "class SubfieldsinAI():\n",
    "    def Sub_fields():\n",
    "        Lists = [\"Machine Learning\",\"Neural Networks\",\"VisionRobotics\",\"Speech Processing\",\"Natural Language Processing\"]\n",
    "        print(\"sub_fields in AI are:\")\n",
    "        for sub in Lists:\n",
    "            print(sub)\n",
    " \n",
    "    "
   ]
  },
  {
   "cell_type": "code",
   "execution_count": 14,
   "id": "eb9cfa4e-170c-49c9-8284-0d28b4ab43d9",
   "metadata": {},
   "outputs": [
    {
     "name": "stdout",
     "output_type": "stream",
     "text": [
      "sub_fields in AI are:\n",
      "Machine Learning\n",
      "Neural Networks\n",
      "VisionRobotics\n",
      "Speech Processing\n",
      "Natural Language Processing\n"
     ]
    }
   ],
   "source": [
    "SubfieldsinAI.Sub_fields()"
   ]
  },
  {
   "cell_type": "code",
   "execution_count": 15,
   "id": "f98b6368-d5c4-480d-b4e8-a5f44bc473ab",
   "metadata": {},
   "outputs": [],
   "source": [
    "class OddEven():\n",
    "    def OddEven():\n",
    "        num =int(input(\"Enter a number:\"))\n",
    "        if(num%2==1):\n",
    "            print(num,\"is odd number\")\n",
    "        else:\n",
    "            print(num,\"is even number\")"
   ]
  },
  {
   "cell_type": "code",
   "execution_count": 17,
   "id": "a677dc06-3ae9-4137-9f65-4ab27e29a894",
   "metadata": {},
   "outputs": [
    {
     "name": "stdin",
     "output_type": "stream",
     "text": [
      "Enter a number: 52452\n"
     ]
    },
    {
     "name": "stdout",
     "output_type": "stream",
     "text": [
      "52452 is even number\n"
     ]
    }
   ],
   "source": [
    "OddEven.OddEven()"
   ]
  },
  {
   "cell_type": "code",
   "execution_count": 18,
   "id": "485b61a0-9792-4623-94e3-b1f24134c0c3",
   "metadata": {},
   "outputs": [],
   "source": [
    "class Eligibilityformarriage():\n",
    "    def Marriage():\n",
    "        Gender =input(\"Your Gender:\")\n",
    "        Age =int(input(\"Your Age:\"))\n",
    "        if( Gender == 'Male'):\n",
    "           if(Age>=21):\n",
    "               print(\"Eligible\")\n",
    "           else:\n",
    "               print(\"Not Eligible\")\n",
    "        elif( Gender == 'Female'):\n",
    "            if(Age>=18):\n",
    "                print(\"Eligible\")\n",
    "            else:\n",
    "                print(\"Not Eligible\")"
   ]
  },
  {
   "cell_type": "code",
   "execution_count": 20,
   "id": "fbba1161-2caf-4a21-b8b0-c30201ced907",
   "metadata": {},
   "outputs": [
    {
     "name": "stdin",
     "output_type": "stream",
     "text": [
      "Your Gender: Male\n",
      "Your Age: 20\n"
     ]
    },
    {
     "name": "stdout",
     "output_type": "stream",
     "text": [
      "Not Eligible\n"
     ]
    }
   ],
   "source": [
    "Eligibilityformarriage.Marriage()"
   ]
  },
  {
   "cell_type": "code",
   "execution_count": 21,
   "id": "09c82f65-30b2-40b1-aaca-55d0bf7a2d52",
   "metadata": {},
   "outputs": [],
   "source": [
    "class Findpercentage():\n",
    "    def TotalSub():\n",
    "        Subject1 =int(input(\"Subject1=\"))\n",
    "        Subject2 =int(input(\"Subject2=\"))\n",
    "        Subject3 =int(input(\"Subject3=\"))\n",
    "        Subject4 =int(input(\"Subject4=\"))\n",
    "        Subject5 =int(input(\"Subject5=\"))\n",
    "        Total =(Subject1+Subject2+Subject3+Subject4+Subject5)\n",
    "        percentage =(Total/500)*100\n",
    "        print(\"Total :\", Total)\n",
    "        print(\"percentage :\", percentage)"
   ]
  },
  {
   "cell_type": "code",
   "execution_count": 22,
   "id": "0f8c5cc9-7d5c-401b-8ff2-6f544eb06381",
   "metadata": {},
   "outputs": [
    {
     "name": "stdin",
     "output_type": "stream",
     "text": [
      "Subject1= 98\n",
      "Subject2= 87\n",
      "Subject3= 95\n",
      "Subject4= 95\n",
      "Subject5= 93\n"
     ]
    },
    {
     "name": "stdout",
     "output_type": "stream",
     "text": [
      "Total : 468\n",
      "percentage : 93.60000000000001\n"
     ]
    }
   ],
   "source": [
    "Findpercentage.TotalSub()"
   ]
  },
  {
   "cell_type": "code",
   "execution_count": null,
   "id": "f557d448-0810-4b39-a614-d7d919dad388",
   "metadata": {},
   "outputs": [],
   "source": []
  }
 ],
 "metadata": {
  "kernelspec": {
   "display_name": "Python 3 (ipykernel)",
   "language": "python",
   "name": "python3"
  },
  "language_info": {
   "codemirror_mode": {
    "name": "ipython",
    "version": 3
   },
   "file_extension": ".py",
   "mimetype": "text/x-python",
   "name": "python",
   "nbconvert_exporter": "python",
   "pygments_lexer": "ipython3",
   "version": "3.13.5"
  }
 },
 "nbformat": 4,
 "nbformat_minor": 5
}
