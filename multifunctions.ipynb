{
 "cells": [
  {
   "cell_type": "code",
   "execution_count": 1,
   "id": "28e71cc6-b9f5-41b4-8d34-d252dade1693",
   "metadata": {},
   "outputs": [],
   "source": [
    "from classlib import allfunctions\n",
    "#from classlib import allfunctions"
   ]
  },
  {
   "cell_type": "code",
   "execution_count": 2,
   "id": "cf485143-9747-458a-8b1c-0cea5a0e7458",
   "metadata": {},
   "outputs": [
    {
     "name": "stdout",
     "output_type": "stream",
     "text": [
      "sub_fields in AI are:\n",
      "Machine Learning\n",
      "Neural Networks\n",
      "VisionRobotics\n",
      "Speech Processing\n",
      "Natural Language Processing\n"
     ]
    }
   ],
   "source": [
    "allfunctions.Sub_fields()"
   ]
  },
  {
   "cell_type": "code",
   "execution_count": 3,
   "id": "19525e0c-14c5-4030-86c4-f0cc01373093",
   "metadata": {},
   "outputs": [
    {
     "name": "stdin",
     "output_type": "stream",
     "text": [
      "Enter a number: 52452\n"
     ]
    },
    {
     "name": "stdout",
     "output_type": "stream",
     "text": [
      "52452 is even number\n"
     ]
    }
   ],
   "source": [
    "allfunctions.OddEven()"
   ]
  },
  {
   "cell_type": "code",
   "execution_count": 4,
   "id": "9680d523-53e6-4c0d-a3f2-eea0490fa9aa",
   "metadata": {},
   "outputs": [
    {
     "name": "stdin",
     "output_type": "stream",
     "text": [
      "Your Gender: Male\n",
      "Your Age: 20\n"
     ]
    },
    {
     "name": "stdout",
     "output_type": "stream",
     "text": [
      "Not Eligible\n"
     ]
    }
   ],
   "source": [
    "allfunctions.Marriage()"
   ]
  },
  {
   "cell_type": "code",
   "execution_count": 5,
   "id": "b743ea82-17d0-4b02-b366-ac7f5b6ec4e0",
   "metadata": {},
   "outputs": [
    {
     "name": "stdin",
     "output_type": "stream",
     "text": [
      "Subject1= 98\n",
      "Subject2= 87\n",
      "Subject3= 95\n",
      "Subject4= 95\n",
      "Subject5= 93\n"
     ]
    },
    {
     "name": "stdout",
     "output_type": "stream",
     "text": [
      "Total : 468\n",
      "percentage : 93.60000000000001\n"
     ]
    }
   ],
   "source": [
    "allfunctions.TotalSub()"
   ]
  },
  {
   "cell_type": "code",
   "execution_count": 6,
   "id": "709fc4f0-38fa-4689-a765-48c3c3aa2541",
   "metadata": {},
   "outputs": [
    {
     "name": "stdin",
     "output_type": "stream",
     "text": [
      "height: 32\n",
      "breath: 34\n"
     ]
    },
    {
     "name": "stdout",
     "output_type": "stream",
     "text": [
      "Area formula:(height*breath)/2\n",
      "Area of triangle: 544.0\n"
     ]
    },
    {
     "name": "stdin",
     "output_type": "stream",
     "text": [
      "Height1: 2\n",
      "Height2: 4\n",
      "Breath: 4\n"
     ]
    },
    {
     "name": "stdout",
     "output_type": "stream",
     "text": [
      "Perimeter formula: Height1+Height2+Breath\n",
      "Perimeter Triangle: 10\n"
     ]
    }
   ],
   "source": [
    "allfunctions.order()"
   ]
  },
  {
   "cell_type": "code",
   "execution_count": null,
   "id": "933bf64c-70b0-4dc4-b62c-fa96dc4e2974",
   "metadata": {},
   "outputs": [],
   "source": []
  }
 ],
 "metadata": {
  "kernelspec": {
   "display_name": "Python 3 (ipykernel)",
   "language": "python",
   "name": "python3"
  },
  "language_info": {
   "codemirror_mode": {
    "name": "ipython",
    "version": 3
   },
   "file_extension": ".py",
   "mimetype": "text/x-python",
   "name": "python",
   "nbconvert_exporter": "python",
   "pygments_lexer": "ipython3",
   "version": "3.13.5"
  }
 },
 "nbformat": 4,
 "nbformat_minor": 5
}
