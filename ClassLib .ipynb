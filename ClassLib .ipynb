{
 "cells": [
  {
   "cell_type": "code",
   "execution_count": 5,
   "id": "d928f82e-3b3a-475a-a12f-45c0b6c63b80",
   "metadata": {},
   "outputs": [],
   "source": [
    "class allfunctions():\n",
    "    def Sub_fields():\n",
    "            Lists = [\"Machine Learning\",\"Neural Networks\",\"VisionRobotics\",\"Speech Processing\",\"Natural Language Processing\"]\n",
    "            print(\"sub_fields in AI are:\")\n",
    "            for sub in Lists:\n",
    "                print(sub)    \n",
    "    def OddEven():\n",
    "            num =int(input(\"Enter a number:\"))\n",
    "            if(num%2==1):\n",
    "                print(num,\"is odd number\")\n",
    "            else:\n",
    "                print(num,\"is even number\")    \n",
    "    def Marriage():\n",
    "            Gender =input(\"Your Gender:\")\n",
    "            Age =int(input(\"Your Age:\"))\n",
    "            if( Gender == 'Male'):\n",
    "               if(Age>=21):\n",
    "                   print(\"Eligible\")\n",
    "               else:\n",
    "                   print(\"Not Eligible\")\n",
    "            elif( Gender == 'Female'):\n",
    "                if(Age>=18):\n",
    "                    print(\"Eligible\")\n",
    "                else:\n",
    "                    print(\"Not Eligible\")  \n",
    "                    \n",
    "    def TotalSub():\n",
    "            Subject1 =int(input(\"Subject1=\"))\n",
    "            Subject2 =int(input(\"Subject2=\"))\n",
    "            Subject3 =int(input(\"Subject3=\"))\n",
    "            Subject4 =int(input(\"Subject4=\"))\n",
    "            Subject5 =int(input(\"Subject5=\"))\n",
    "            Total =(Subject1+Subject2+Subject3+Subject4+Subject5)\n",
    "            percentage =(Total/500)*100\n",
    "            print(\"Total :\", Total)\n",
    "            print(\"percentage :\", percentage) \n",
    "    def order():\n",
    "            height=int(input(\"height:\"))\n",
    "            breath=int(input(\"breath:\"))\n",
    "            print(\"Area formula:(height*breath)/2\")\n",
    "            print(\"Area of triangle:\", height*breath/2)\n",
    "            Height1=int(input(\"Height1:\"))\n",
    "            Height2=int(input(\"Height2:\"))\n",
    "            Breath=int(input(\"Breath:\"))\n",
    "            print(\"Perimeter formula: Height1+Height2+Breath\")\n",
    "            print(\"Perimeter Triangle:\", Height1+Height2+Breath)     "
   ]
  },
  {
   "cell_type": "code",
   "execution_count": 6,
   "id": "22ba1b52-bffa-43fd-ad0a-dc2d289cd294",
   "metadata": {},
   "outputs": [
    {
     "name": "stdout",
     "output_type": "stream",
     "text": [
      "sub_fields in AI are:\n",
      "Machine Learning\n",
      "Neural Networks\n",
      "VisionRobotics\n",
      "Speech Processing\n",
      "Natural Language Processing\n"
     ]
    }
   ],
   "source": [
    "allfunctions.Sub_fields()"
   ]
  },
  {
   "cell_type": "code",
   "execution_count": 7,
   "id": "878512a0-0192-47ff-a328-cd3ae3d0163c",
   "metadata": {},
   "outputs": [
    {
     "name": "stdin",
     "output_type": "stream",
     "text": [
      "Enter a number: 52452\n"
     ]
    },
    {
     "name": "stdout",
     "output_type": "stream",
     "text": [
      "52452 is even number\n"
     ]
    }
   ],
   "source": [
    "allfunctions.OddEven()"
   ]
  },
  {
   "cell_type": "code",
   "execution_count": 8,
   "id": "371dbaad-42db-46a0-b01e-5f2d5f160906",
   "metadata": {},
   "outputs": [
    {
     "name": "stdin",
     "output_type": "stream",
     "text": [
      "Your Gender: Male\n",
      "Your Age: 20\n"
     ]
    },
    {
     "name": "stdout",
     "output_type": "stream",
     "text": [
      "Not Eligible\n"
     ]
    }
   ],
   "source": [
    "allfunctions.Marriage()"
   ]
  },
  {
   "cell_type": "code",
   "execution_count": 10,
   "id": "e0f5a549-a74e-4c26-9b91-9ca094caa16f",
   "metadata": {},
   "outputs": [
    {
     "name": "stdin",
     "output_type": "stream",
     "text": [
      "Subject1= 98\n",
      "Subject2= 87\n",
      "Subject3= 95\n",
      "Subject4= 95\n",
      "Subject5= 93\n"
     ]
    },
    {
     "name": "stdout",
     "output_type": "stream",
     "text": [
      "Total : 468\n",
      "percentage : 93.60000000000001\n"
     ]
    }
   ],
   "source": [
    "allfunctions.TotalSub()"
   ]
  },
  {
   "cell_type": "code",
   "execution_count": 11,
   "id": "cd159597-fc0f-46fa-b6f0-87bb760492e1",
   "metadata": {},
   "outputs": [
    {
     "name": "stdin",
     "output_type": "stream",
     "text": [
      "height: 32\n",
      "breath: 34\n"
     ]
    },
    {
     "name": "stdout",
     "output_type": "stream",
     "text": [
      "Area formula:(height*breath)/2\n",
      "Area of triangle: 544.0\n"
     ]
    },
    {
     "name": "stdin",
     "output_type": "stream",
     "text": [
      "Height1: 2\n",
      "Height2: 4\n",
      "Breath: 4\n"
     ]
    },
    {
     "name": "stdout",
     "output_type": "stream",
     "text": [
      "Perimeter formula: Height1+Height2+Breath\n",
      "Perimeter Triangle: 10\n"
     ]
    }
   ],
   "source": [
    "allfunctions.order()"
   ]
  },
  {
   "cell_type": "code",
   "execution_count": null,
   "id": "f4285443-7ad4-49bb-9c12-1b062e22e79f",
   "metadata": {},
   "outputs": [],
   "source": []
  }
 ],
 "metadata": {
  "kernelspec": {
   "display_name": "Python 3 (ipykernel)",
   "language": "python",
   "name": "python3"
  },
  "language_info": {
   "codemirror_mode": {
    "name": "ipython",
    "version": 3
   },
   "file_extension": ".py",
   "mimetype": "text/x-python",
   "name": "python",
   "nbconvert_exporter": "python",
   "pygments_lexer": "ipython3",
   "version": "3.13.5"
  }
 },
 "nbformat": 4,
 "nbformat_minor": 5
}
