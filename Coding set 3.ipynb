{
 "cells": [
  {
   "cell_type": "code",
   "execution_count": null,
   "id": "511e5dbe",
   "metadata": {},
   "outputs": [],
   "source": [
    "#1. Square of Numbers from 1 to 5\n",
    "Output:\n",
    "1 4 9 16 25\n"
   ]
  },
  {
   "cell_type": "code",
   "execution_count": null,
   "id": "e886abee",
   "metadata": {},
   "outputs": [],
   "source": [
    "#2.Swap Two Variables Without Using a Temporary Variable\n",
    "Question: Write a Python program to swap two variables a = 5 and b = 10 without using a temporary variable.\n",
    "\n"
   ]
  },
  {
   "cell_type": "code",
   "execution_count": null,
   "id": "adfc0479",
   "metadata": {},
   "outputs": [],
   "source": [
    " #3.Find Even and Odd Numbers in a List\n",
    "Question: Write a Python program to separate even and odd numbers from the list [12, 17, 19, 24, 35, 40, 56].\n",
    "\n"
   ]
  },
  {
   "cell_type": "code",
   "execution_count": null,
   "id": "9bd0afd7",
   "metadata": {},
   "outputs": [],
   "source": [
    "#4. Reverse a Number\n",
    "Question: Write a Python program to reverse the number 12345.\n",
    "\n"
   ]
  },
  {
   "cell_type": "code",
   "execution_count": null,
   "id": "baf1f666",
   "metadata": {},
   "outputs": [],
   "source": [
    "#5. Find the Second Largest Number in a List\n",
    "Question: Write a Python program to find the second largest number in the list [12, 45, 98, 34, 23].\n"
   ]
  },
  {
   "cell_type": "code",
   "execution_count": null,
   "id": "eb6e77d2",
   "metadata": {},
   "outputs": [],
   "source": []
  },
  {
   "cell_type": "code",
   "execution_count": null,
   "id": "cf27438f",
   "metadata": {},
   "outputs": [],
   "source": []
  },
  {
   "cell_type": "code",
   "execution_count": null,
   "id": "8a8e84b3",
   "metadata": {},
   "outputs": [],
   "source": []
  },
  {
   "cell_type": "code",
   "execution_count": null,
   "id": "a73f86c4",
   "metadata": {},
   "outputs": [],
   "source": []
  }
 ],
 "metadata": {
  "kernelspec": {
   "display_name": "Python 3 (ipykernel)",
   "language": "python",
   "name": "python3"
  },
  "language_info": {
   "codemirror_mode": {
    "name": "ipython",
    "version": 3
   },
   "file_extension": ".py",
   "mimetype": "text/x-python",
   "name": "python",
   "nbconvert_exporter": "python",
   "pygments_lexer": "ipython3",
   "version": "3.7.6"
  }
 },
 "nbformat": 4,
 "nbformat_minor": 5
}
