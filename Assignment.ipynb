{
 "cells": [
  {
   "cell_type": "code",
   "execution_count": 3,
   "id": "7e98900c-da0b-4000-be93-6ce0e10d3a1f",
   "metadata": {},
   "outputs": [
    {
     "name": "stdout",
     "output_type": "stream",
     "text": [
      "Welcome to Assignment1\n"
     ]
    }
   ],
   "source": [
    "print(\"Welcome to Assignment1\")"
   ]
  },
  {
   "cell_type": "code",
   "execution_count": 17,
   "id": "182adc24-c077-48eb-ae5d-f5e98d14538b",
   "metadata": {},
   "outputs": [
    {
     "name": "stdout",
     "output_type": "stream",
     "text": [
      "num1=10\n",
      "num2=30\n",
      "add= 40\n"
     ]
    }
   ],
   "source": [
    "num1=10\n",
    "num2=30\n",
    "add=num1+num2\n",
    "print(\"num1=10\")\n",
    "print(\"num2=30\")\n",
    "print(\"add=\",add)"
   ]
  },
  {
   "cell_type": "code",
   "execution_count": 26,
   "id": "e0460cae-8432-4a77-9184-8f9addd7d45a",
   "metadata": {},
   "outputs": [
    {
     "name": "stdin",
     "output_type": "stream",
     "text": [
      "Enter the BMI Index: 34\n"
     ]
    }
   ],
   "source": [
    "weight=int(input(\"Enter the BMI Index:\"))"
   ]
  },
  {
   "cell_type": "code",
   "execution_count": 27,
   "id": "1439ebba-aa77-4e18-82b9-87f8ccce5fe6",
   "metadata": {},
   "outputs": [
    {
     "name": "stdout",
     "output_type": "stream",
     "text": [
      "Enter the BMI Index= 34\n",
      "Very overweight\n"
     ]
    }
   ],
   "source": [
    "print(\"Enter the BMI Index=\",weight)\n",
    "if(weight<18.5):\n",
    "    print(\"Under Weight\")\n",
    "elif(weight<24.9):\n",
    "    print(\"Healthy Weight\")\n",
    "elif(weight<29.9):\n",
    "    print(\"Over Weight\")\n",
    "elif(weight<39.9):\n",
    "    print(\"Very overweight\")\n",
    "else:\n",
    "    print(\"Obesity\")"
   ]
  },
  {
   "cell_type": "code",
   "execution_count": null,
   "id": "c1087b4f-d3be-45eb-96ab-13142737c6a5",
   "metadata": {},
   "outputs": [],
   "source": []
  }
 ],
 "metadata": {
  "kernelspec": {
   "display_name": "Python 3 (ipykernel)",
   "language": "python",
   "name": "python3"
  },
  "language_info": {
   "codemirror_mode": {
    "name": "ipython",
    "version": 3
   },
   "file_extension": ".py",
   "mimetype": "text/x-python",
   "name": "python",
   "nbconvert_exporter": "python",
   "pygments_lexer": "ipython3",
   "version": "3.13.5"
  }
 },
 "nbformat": 4,
 "nbformat_minor": 5
}
