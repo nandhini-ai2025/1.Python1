{
 "cells": [
  {
   "cell_type": "code",
   "execution_count": 21,
   "id": "60d4928f-75ca-4d22-931e-1f48d5c15766",
   "metadata": {},
   "outputs": [
    {
     "name": "stdout",
     "output_type": "stream",
     "text": [
      "sub_fields in AI are:\n",
      "Machine Learning\n",
      "Neural Networks\n",
      "VisionRobotics\n",
      "Speech Processing\n",
      "Natural Language Processing\n"
     ]
    }
   ],
   "source": [
    "def Sub_fields():\n",
    "Lists = [\"Machine Learning\",\"Neural Networks\",\"VisionRobotics\",\"Speech Processing\",\"Natural Language Processing\"]\n",
    "print(\"sub_fields in AI are:\")\n",
    "for sub in Lists:\n",
    "    print(sub)"
   ]
  },
  {
   "cell_type": "code",
   "execution_count": 10,
   "id": "944f27da-e51c-425c-ab54-814032937c12",
   "metadata": {},
   "outputs": [],
   "source": [
    "def OddEven():\n",
    "    num =int(input(\"Enter a number:\"))\n",
    "    if(num%2==1):\n",
    "        print(num,\"is odd number\")\n",
    "    else:\n",
    "        print(num,\"is even number\")"
   ]
  },
  {
   "cell_type": "code",
   "execution_count": 11,
   "id": "98ddab93-b737-49d9-b396-1093ab54b115",
   "metadata": {},
   "outputs": [
    {
     "name": "stdin",
     "output_type": "stream",
     "text": [
      "Enter a number: 52452\n"
     ]
    },
    {
     "name": "stdout",
     "output_type": "stream",
     "text": [
      "52452 is even number\n"
     ]
    }
   ],
   "source": [
    "OddEven()"
   ]
  },
  {
   "cell_type": "code",
   "execution_count": 12,
   "id": "ef400dc0-4ada-47d9-acb9-c8d7578b606f",
   "metadata": {},
   "outputs": [],
   "source": [
    "def Marriage():\n",
    "    Gender =input(\"Your Gender:\")\n",
    "    Age =int(input(\"Your Age:\"))\n",
    "    if( Gender == 'Male'):\n",
    "       if(Age>=21):\n",
    "           print(\"Eligible\")\n",
    "       else:\n",
    "           print(\"Not Eligible\")\n",
    "    elif( Gender == 'Female'):\n",
    "        if(Age>=18):\n",
    "            print(\"Eligible\")\n",
    "        else:\n",
    "            print(\"Not Eligible\")"
   ]
  },
  {
   "cell_type": "code",
   "execution_count": 13,
   "id": "4b38e79a-394f-4fd5-af7f-eb0e60cc62a6",
   "metadata": {},
   "outputs": [
    {
     "name": "stdin",
     "output_type": "stream",
     "text": [
      "Your Gender: Male\n",
      "Your Age: 20\n"
     ]
    },
    {
     "name": "stdout",
     "output_type": "stream",
     "text": [
      "Not Eligible\n"
     ]
    }
   ],
   "source": [
    "Marriage()"
   ]
  },
  {
   "cell_type": "code",
   "execution_count": 14,
   "id": "2f91e633-3b51-4d12-b029-c4271d9b8cf6",
   "metadata": {},
   "outputs": [],
   "source": [
    "def TotalSub():\n",
    "    Subject1 =int(input(\"Subject1=\"))\n",
    "    Subject2 =int(input(\"Subject2=\"))\n",
    "    Subject3 =int(input(\"Subject3=\"))\n",
    "    Subject4 =int(input(\"Subject4=\"))\n",
    "    Subject5 =int(input(\"Subject5=\"))\n",
    "    Total =(Subject1+Subject2+Subject3+Subject4+Subject5)\n",
    "    percentage =(Total/500)*100\n",
    "    print(\"Total :\", Total)\n",
    "    print(\"percentage :\", percentage)"
   ]
  },
  {
   "cell_type": "code",
   "execution_count": 15,
   "id": "8e887aa1-53ce-4548-9c4c-464e150b5ee9",
   "metadata": {},
   "outputs": [
    {
     "name": "stdin",
     "output_type": "stream",
     "text": [
      "Subject1= 98\n",
      "Subject2= 87\n",
      "Subject3= 95\n",
      "Subject4= 95\n",
      "Subject5= 93\n"
     ]
    },
    {
     "name": "stdout",
     "output_type": "stream",
     "text": [
      "Total : 468\n",
      "percentage : 93.60000000000001\n"
     ]
    }
   ],
   "source": [
    "TotalSub()"
   ]
  },
  {
   "cell_type": "code",
   "execution_count": null,
   "id": "1409cb48-b952-4ddb-bf78-f65469b643e8",
   "metadata": {},
   "outputs": [],
   "source": []
  }
 ],
 "metadata": {
  "kernelspec": {
   "display_name": "Python 3 (ipykernel)",
   "language": "python",
   "name": "python3"
  },
  "language_info": {
   "codemirror_mode": {
    "name": "ipython",
    "version": 3
   },
   "file_extension": ".py",
   "mimetype": "text/x-python",
   "name": "python",
   "nbconvert_exporter": "python",
   "pygments_lexer": "ipython3",
   "version": "3.13.5"
  }
 },
 "nbformat": 4,
 "nbformat_minor": 5
}
