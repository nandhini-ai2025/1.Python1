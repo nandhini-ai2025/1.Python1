{
 "cells": [
  {
   "cell_type": "code",
   "execution_count": 47,
   "id": "e452379b-2d3b-4473-b971-7fa4f1078851",
   "metadata": {},
   "outputs": [
    {
     "name": "stdout",
     "output_type": "stream",
     "text": [
      "olleh\n"
     ]
    }
   ],
   "source": [
    "text=\"hello\"\n",
    "reverse_text= text[::-1]\n",
    "print(reverse_text)"
   ]
  },
  {
   "cell_type": "code",
   "execution_count": 48,
   "id": "203ebb3d-ca89-4051-bbea-7de9ab0463bd",
   "metadata": {},
   "outputs": [
    {
     "name": "stdout",
     "output_type": "stream",
     "text": [
      "Fibanocci Sequence:\n",
      "0 1 1 2 3 5 8 13 21 34 "
     ]
    }
   ],
   "source": [
    "term=10\n",
    "a,b=0,1\n",
    "print(\"Fibanocci Sequence:\")\n",
    "for i in range(term):\n",
    "    print(a, end=\" \")\n",
    "    a,b=b,a+b\n",
    "\n"
   ]
  },
  {
   "cell_type": "code",
   "execution_count": 49,
   "id": "1f891848-5f13-4314-b6fb-61518bd6c619",
   "metadata": {},
   "outputs": [
    {
     "name": "stdout",
     "output_type": "stream",
     "text": [
      "madam is a palindrome\n"
     ]
    }
   ],
   "source": [
    "text=\"madam\"\n",
    "if text==text[::-1]:\n",
    "    print(text,\"is a palindrome\")\n",
    "else:\n",
    "    print(text,\"is a not palindrome\")"
   ]
  },
  {
   "cell_type": "code",
   "execution_count": 2,
   "id": "40102944-793d-454e-af94-e58534cc8ebb",
   "metadata": {},
   "outputs": [
    {
     "name": "stdout",
     "output_type": "stream",
     "text": [
      "Number of vowels: 5\n"
     ]
    }
   ],
   "source": [
    "def count_vowels(s):\n",
    "    vowels = \"aeiouAEIOU\"\n",
    "    return sum(1 for char in s if char in vowels)\n",
    "\n",
    "print(\"Number of vowels:\", count_vowels(\"education\"))\n"
   ]
  },
  {
   "cell_type": "code",
   "execution_count": 4,
   "id": "e8575779-4c2a-4927-ae65-c5e39aa39d65",
   "metadata": {},
   "outputs": [
    {
     "name": "stdout",
     "output_type": "stream",
     "text": [
      "list[{1, 2, 3, 4, 5}]\n"
     ]
    }
   ],
   "source": [
    "num=[1,2,2,3,4,4,5]\n",
    "Remove=list[set(num)]\n",
    "print(Remove)"
   ]
  },
  {
   "cell_type": "code",
   "execution_count": null,
   "id": "1185b64f-f7a0-43e4-bcc9-21d39e558b54",
   "metadata": {},
   "outputs": [],
   "source": []
  }
 ],
 "metadata": {
  "kernelspec": {
   "display_name": "Python 3 (ipykernel)",
   "language": "python",
   "name": "python3"
  },
  "language_info": {
   "codemirror_mode": {
    "name": "ipython",
    "version": 3
   },
   "file_extension": ".py",
   "mimetype": "text/x-python",
   "name": "python",
   "nbconvert_exporter": "python",
   "pygments_lexer": "ipython3",
   "version": "3.13.5"
  }
 },
 "nbformat": 4,
 "nbformat_minor": 5
}
